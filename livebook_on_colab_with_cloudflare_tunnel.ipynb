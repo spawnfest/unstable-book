{
  "cells": [
    {
      "cell_type": "code",
      "source": [
        "from google.colab import drive\n",
        "drive.mount('/content/drive')"
      ],
      "metadata": {
        "id": "PFN2YLNZLYqi"
      },
      "execution_count": null,
      "outputs": []
    },
    {
      "cell_type": "code",
      "execution_count": null,
      "metadata": {
        "id": "_cYZ1-Xer9p8"
      },
      "outputs": [],
      "source": [
        "# !dpkg-reconfigure locales\n",
        "!echo 'debconf debconf/frontend select Noninteractive' | sudo debconf-set-selections"
      ]
    },
    {
      "cell_type": "code",
      "execution_count": null,
      "metadata": {
        "id": "svhMyhnir9p-"
      },
      "outputs": [],
      "source": [
        "# !pip install -q kaggle\n",
        "!wget https://packages.erlang-solutions.com/erlang-solutions_2.0_all.deb && sudo dpkg -i erlang-solutions_2.0_all.deb\n",
        "!sudo apt-get update -y\n",
        "\n",
        "!sudo apt-get install -y erlang-base\n",
        "!sudo apt-get install -y build-essential\n",
        "!sudo apt-get install -y erlang-dev\n",
        "!sudo apt-get install -y erlang-parsetools\n",
        "!sudo apt-get install -y erlang-os-mon\n",
        "!sudo apt-get install -y erlang-xmerl\n",
        "\n",
        "!sudo apt-get install -y elixir\n",
        "# !sudo apt install libstdc++6\n"
      ]
    },
    {
      "cell_type": "code",
      "execution_count": null,
      "metadata": {
        "id": "-wiZrTuRr9p_"
      },
      "outputs": [],
      "source": [
        "!mix local.hex --force\n",
        "!mix local.rebar --force\n",
        "!mix escript.install hex livebook 0.6.3 --force"
      ]
    },
    {
      "cell_type": "code",
      "execution_count": null,
      "metadata": {
        "id": "J3pKo96tr9qA"
      },
      "outputs": [],
      "source": [
        "!curl -L \"https://github.com/cloudflare/cloudflared/releases/latest/download/cloudflared-linux-amd64\" --output cloudflared \n",
        "!chmod +x cloudflared"
      ]
    },
    {
      "cell_type": "code",
      "execution_count": null,
      "metadata": {
        "id": "KV4TZP0Rr9qB"
      },
      "outputs": [],
      "source": [
        "!./cloudflared login"
      ]
    },
    {
      "cell_type": "code",
      "source": [
        "!./cloudflared tunnel create livebook"
      ],
      "metadata": {
        "id": "RWvlKB63VKiq"
      },
      "execution_count": null,
      "outputs": []
    },
    {
      "cell_type": "markdown",
      "source": [
        "Move tunnel credentials into google drive to persist between sessions:"
      ],
      "metadata": {
        "id": "F8KHaOY9CxpU"
      }
    },
    {
      "cell_type": "code",
      "source": [
        "!mv /root/.cloudflared/<tunnel uuid>.json /content/drive/MyDrive/tunnel-credentials.json"
      ],
      "metadata": {
        "id": "XI-5zdZXmzh9"
      },
      "execution_count": null,
      "outputs": []
    },
    {
      "cell_type": "code",
      "source": [
        "!./cloudflared tunnel route dns livebook <hostname>"
      ],
      "metadata": {
        "id": "BHXm9kv0kSnL"
      },
      "execution_count": null,
      "outputs": []
    },
    {
      "cell_type": "markdown",
      "source": [
        "Create `/content/drive/MyDrive/config.yml` file with cloudflare tunnel config:\n",
        "\n",
        "```\n",
        "\n",
        "url: http://localhost:9091\n",
        "tunnel: <tunnel uuid>\n",
        "credentials-file: /content/drive/MyDrive/tunnel-credentials.json\n",
        "```\n"
      ],
      "metadata": {
        "id": "Bp-9Wkw1C_5C"
      }
    },
    {
      "cell_type": "code",
      "execution_count": 1,
      "metadata": {
        "id": "35u9W-Ccr9qB"
      },
      "outputs": [],
      "source": [
        "get_ipython().system_raw('./cloudflared tunnel --config /content/drive/MyDrive/config.yml run &')\n",
        "!sleep 5s"
      ]
    },
    {
      "cell_type": "code",
      "execution_count": null,
      "metadata": {
        "id": "Wf7jgg5dr9qE"
      },
      "outputs": [],
      "source": [
        "!XLA_TARGET=cuda111 EXLA_TARGET=cuda LIBTORCH_TARGET=cuda /root/.mix/escripts/livebook server --port 9091"
      ]
    }
  ],
  "metadata": {
    "colab": {
      "provenance": [],
      "collapsed_sections": []
    },
    "kernelspec": {
      "display_name": "Python 3",
      "language": "python",
      "name": "python3"
    },
    "language_info": {
      "codemirror_mode": {
        "name": "ipython",
        "version": 3
      },
      "file_extension": ".py",
      "mimetype": "text/x-python",
      "name": "python",
      "nbconvert_exporter": "python",
      "pygments_lexer": "ipython3",
      "version": "3.6.4"
    },
    "accelerator": "GPU"
  },
  "nbformat": 4,
  "nbformat_minor": 0
}